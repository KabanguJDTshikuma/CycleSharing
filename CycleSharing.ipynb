{
 "cells": [
  {
   "cell_type": "code",
   "execution_count": 78,
   "metadata": {
    "collapsed": false
   },
   "outputs": [],
   "source": [
    "%matplotlib inline\n",
    "import random\n",
    "import datetime\n",
    "import pandas as pd\n",
    "import matplotlib.pyplot as plt\n",
    "import statistics\n",
    "import numpy as np\n",
    "import scipy\n",
    "from scipy import stats\n",
    "import seaborn"
   ]
  },
  {
   "cell_type": "code",
   "execution_count": 79,
   "metadata": {
    "collapsed": false
   },
   "outputs": [
    {
     "name": "stdout",
     "output_type": "stream",
     "text": [
      "275091\n"
     ]
    },
    {
     "data": {
      "text/html": [
       "<div>\n",
       "<table border=\"1\" class=\"dataframe\">\n",
       "  <thead>\n",
       "    <tr style=\"text-align: right;\">\n",
       "      <th></th>\n",
       "      <th>trip_id</th>\n",
       "      <th>starttime</th>\n",
       "      <th>stoptime</th>\n",
       "      <th>bikeid</th>\n",
       "      <th>tripduration</th>\n",
       "      <th>from_station_name</th>\n",
       "      <th>to_station_name</th>\n",
       "      <th>from_station_id</th>\n",
       "      <th>to_station_id</th>\n",
       "      <th>usertype</th>\n",
       "      <th>gender</th>\n",
       "      <th>birthyear</th>\n",
       "    </tr>\n",
       "  </thead>\n",
       "  <tbody>\n",
       "    <tr>\n",
       "      <th>0</th>\n",
       "      <td>431</td>\n",
       "      <td>10/13/2014 10:31:00 AM</td>\n",
       "      <td>10/13/2014 10:48:00 AM</td>\n",
       "      <td>SEA00298</td>\n",
       "      <td>985.935</td>\n",
       "      <td>2nd Ave &amp; Spring St</td>\n",
       "      <td>Occidental Park / Occidental Ave S &amp; S Washing...</td>\n",
       "      <td>CBD-06</td>\n",
       "      <td>PS-04</td>\n",
       "      <td>Member</td>\n",
       "      <td>Male</td>\n",
       "      <td>1960.0</td>\n",
       "    </tr>\n",
       "    <tr>\n",
       "      <th>1</th>\n",
       "      <td>432</td>\n",
       "      <td>10/13/2014 10:32:00 AM</td>\n",
       "      <td>10/13/2014 10:48:00 AM</td>\n",
       "      <td>SEA00195</td>\n",
       "      <td>926.375</td>\n",
       "      <td>2nd Ave &amp; Spring St</td>\n",
       "      <td>Occidental Park / Occidental Ave S &amp; S Washing...</td>\n",
       "      <td>CBD-06</td>\n",
       "      <td>PS-04</td>\n",
       "      <td>Member</td>\n",
       "      <td>Male</td>\n",
       "      <td>1970.0</td>\n",
       "    </tr>\n",
       "    <tr>\n",
       "      <th>2</th>\n",
       "      <td>433</td>\n",
       "      <td>10/13/2014 10:33:00 AM</td>\n",
       "      <td>10/13/2014 10:48:00 AM</td>\n",
       "      <td>SEA00486</td>\n",
       "      <td>883.831</td>\n",
       "      <td>2nd Ave &amp; Spring St</td>\n",
       "      <td>Occidental Park / Occidental Ave S &amp; S Washing...</td>\n",
       "      <td>CBD-06</td>\n",
       "      <td>PS-04</td>\n",
       "      <td>Member</td>\n",
       "      <td>Female</td>\n",
       "      <td>1988.0</td>\n",
       "    </tr>\n",
       "    <tr>\n",
       "      <th>3</th>\n",
       "      <td>434</td>\n",
       "      <td>10/13/2014 10:34:00 AM</td>\n",
       "      <td>10/13/2014 10:48:00 AM</td>\n",
       "      <td>SEA00333</td>\n",
       "      <td>865.937</td>\n",
       "      <td>2nd Ave &amp; Spring St</td>\n",
       "      <td>Occidental Park / Occidental Ave S &amp; S Washing...</td>\n",
       "      <td>CBD-06</td>\n",
       "      <td>PS-04</td>\n",
       "      <td>Member</td>\n",
       "      <td>Female</td>\n",
       "      <td>1977.0</td>\n",
       "    </tr>\n",
       "    <tr>\n",
       "      <th>4</th>\n",
       "      <td>435</td>\n",
       "      <td>10/13/2014 10:34:00 AM</td>\n",
       "      <td>10/13/2014 10:49:00 AM</td>\n",
       "      <td>SEA00202</td>\n",
       "      <td>923.923</td>\n",
       "      <td>2nd Ave &amp; Spring St</td>\n",
       "      <td>Occidental Park / Occidental Ave S &amp; S Washing...</td>\n",
       "      <td>CBD-06</td>\n",
       "      <td>PS-04</td>\n",
       "      <td>Member</td>\n",
       "      <td>Male</td>\n",
       "      <td>1971.0</td>\n",
       "    </tr>\n",
       "  </tbody>\n",
       "</table>\n",
       "</div>"
      ],
      "text/plain": [
       "   trip_id               starttime                stoptime    bikeid  tripduration  \\\n",
       "0      431  10/13/2014 10:31:00 AM  10/13/2014 10:48:00 AM  SEA00298       985.935   \n",
       "1      432  10/13/2014 10:32:00 AM  10/13/2014 10:48:00 AM  SEA00195       926.375   \n",
       "2      433  10/13/2014 10:33:00 AM  10/13/2014 10:48:00 AM  SEA00486       883.831   \n",
       "3      434  10/13/2014 10:34:00 AM  10/13/2014 10:48:00 AM  SEA00333       865.937   \n",
       "4      435  10/13/2014 10:34:00 AM  10/13/2014 10:49:00 AM  SEA00202       923.923   \n",
       "\n",
       "     from_station_name                                    to_station_name from_station_id  \\\n",
       "0  2nd Ave & Spring St  Occidental Park / Occidental Ave S & S Washing...          CBD-06   \n",
       "1  2nd Ave & Spring St  Occidental Park / Occidental Ave S & S Washing...          CBD-06   \n",
       "2  2nd Ave & Spring St  Occidental Park / Occidental Ave S & S Washing...          CBD-06   \n",
       "3  2nd Ave & Spring St  Occidental Park / Occidental Ave S & S Washing...          CBD-06   \n",
       "4  2nd Ave & Spring St  Occidental Park / Occidental Ave S & S Washing...          CBD-06   \n",
       "\n",
       "  to_station_id usertype  gender  birthyear  \n",
       "0         PS-04   Member    Male     1960.0  \n",
       "1         PS-04   Member    Male     1970.0  \n",
       "2         PS-04   Member  Female     1988.0  \n",
       "3         PS-04   Member  Female     1977.0  \n",
       "4         PS-04   Member    Male     1971.0  "
      ]
     },
     "execution_count": 79,
     "metadata": {},
     "output_type": "execute_result"
    }
   ],
   "source": [
    "data = pd.read_csv('pronto_Cycle_Share_Trip_Data.csv')\n",
    "print(len(data))\n",
    "data.head()"
   ]
  },
  {
   "cell_type": "code",
   "execution_count": 80,
   "metadata": {
    "collapsed": false
   },
   "outputs": [
    {
     "name": "stdout",
     "output_type": "stream",
     "text": [
      "trip_id \t int64\n",
      "starttime \t object\n",
      "stoptime \t object\n",
      "bikeid \t object\n",
      "tripduration \t float64\n",
      "from_station_name \t object\n",
      "to_station_name \t object\n",
      "from_station_id \t object\n",
      "to_station_id \t object\n",
      "usertype \t object\n",
      "gender \t object\n",
      "birthyear \t float64\n"
     ]
    }
   ],
   "source": [
    "for i in data.columns: \n",
    "    print(i, '\\t', data[i].dtype)"
   ]
  },
  {
   "cell_type": "code",
   "execution_count": 81,
   "metadata": {
    "collapsed": true
   },
   "outputs": [],
   "source": [
    "#Univariate Analysis"
   ]
  },
  {
   "cell_type": "code",
   "execution_count": 82,
   "metadata": {
    "collapsed": false
   },
   "outputs": [
    {
     "name": "stdout",
     "output_type": "stream",
     "text": [
      "Date range of dataset: 10/13/2014 10:32:00 AM - 04/01/2017 02:33:00 AM\n"
     ]
    }
   ],
   "source": [
    "#Determining the Time Range of the Dataset\n",
    "data = data.sort_values(by='starttime')\n",
    "data.reset_index()\n",
    "print('Date range of dataset: %s - %s' %(data.ix[1, 'starttime'],\n",
    "                                        data.ix[len(data) -1, 'stoptime']))"
   ]
  },
  {
   "cell_type": "code",
   "execution_count": 83,
   "metadata": {
    "collapsed": true
   },
   "outputs": [],
   "source": [
    "#the analys of range presente 2 insights. one is that the data ranges form october 2014 up till april 2017\n",
    "#it seems like the cycle sharing service is usually operational beyond the standard 9 to 5 business hours."
   ]
  },
  {
   "cell_type": "code",
   "execution_count": 84,
   "metadata": {
    "collapsed": false
   },
   "outputs": [
    {
     "data": {
      "text/plain": [
       "<matplotlib.axes._subplots.AxesSubplot at 0x7f6c66a75780>"
      ]
     },
     "execution_count": 84,
     "metadata": {},
     "output_type": "execute_result"
    },
    {
     "data": {
      "image/png": "[encoded data removed]",
      "text/plain": [
       "<matplotlib.figure.Figure at 0x7f6c66a75278>"
      ]
     },
     "metadata": {},
     "output_type": "display_data"
    }
   ],
   "source": [
    "#Plotting the Distribution of User Types\n",
    "groupby_user = data.groupby('usertype').size()\n",
    "groupby_user.plot.bar(title='Distribution of user types')\n"
   ]
  },
  {
   "cell_type": "code",
   "execution_count": 85,
   "metadata": {
    "collapsed": true
   },
   "outputs": [],
   "source": [
    "#members tend to avail more trips than their counterparts."
   ]
  },
  {
   "cell_type": "code",
   "execution_count": 86,
   "metadata": {
    "collapsed": false
   },
   "outputs": [
    {
     "data": {
      "text/plain": [
       "<matplotlib.axes._subplots.AxesSubplot at 0x7f6c669dd5c0>"
      ]
     },
     "execution_count": 86,
     "metadata": {},
     "output_type": "execute_result"
    },
    {
     "data": {
      "image/png": "[encoded data removed]",
      "text/plain": [
       "<matplotlib.figure.Figure at 0x7f6c669e7390>"
      ]
     },
     "metadata": {},
     "output_type": "display_data"
    }
   ],
   "source": [
    "#Plotting the Distribution of Gender\n",
    "groupby_gender = data.groupby('gender').size()\n",
    "groupby_gender.plot.bar(title='Distribution of genders')"
   ]
  },
  {
   "cell_type": "code",
   "execution_count": 87,
   "metadata": {
    "collapsed": true
   },
   "outputs": [],
   "source": [
    "#Males seem to dominte the trips taken as part of the program."
   ]
  },
  {
   "cell_type": "code",
   "execution_count": 88,
   "metadata": {
    "collapsed": false
   },
   "outputs": [
    {
     "data": {
      "text/plain": [
       "<matplotlib.axes._subplots.AxesSubplot at 0x7f6c669aae80>"
      ]
     },
     "execution_count": 88,
     "metadata": {},
     "output_type": "execute_result"
    },
    {
     "data": {
      "image/png": "[encoded data removed]",
      "text/plain": [
       "<matplotlib.figure.Figure at 0x7f6c66902ac8>"
      ]
     },
     "metadata": {},
     "output_type": "display_data"
    }
   ],
   "source": [
    "#Plotting the Distribution of Birth Years\n",
    "data = data.sort_values(by='birthyear')\n",
    "groupby_birthyear = data.groupby('birthyear').size()\n",
    "groupby_birthyear.plot.bar(title='Distribution of the birth years', figsize=(15, 4))"
   ]
  },
  {
   "cell_type": "code",
   "execution_count": 89,
   "metadata": {
    "collapsed": true
   },
   "outputs": [],
   "source": [
    "#Majority of the people who had subscribed to this program belong to Generation Y (i.e., born in the early 1980s to mid\n",
    "#to late 1990s, also known as millennials).\n",
    "#the reports published by Elite Daily and CrowdTwist which said that millennials are the most loyal generation to their favorite brands."
   ]
  },
  {
   "cell_type": "code",
   "execution_count": 90,
   "metadata": {
    "collapsed": false
   },
   "outputs": [
    {
     "data": {
      "text/plain": [
       "<matplotlib.axes._subplots.AxesSubplot at 0x7f6c666d1518>"
      ]
     },
     "execution_count": 90,
     "metadata": {},
     "output_type": "execute_result"
    },
    {
     "data": {
      "image/png": "[encoded data removed]",
      "text/plain": [
       "<matplotlib.figure.Figure at 0x7f6c666e0f98>"
      ]
     },
     "metadata": {},
     "output_type": "display_data"
    }
   ],
   "source": [
    "#Plotting the Frequency of Member Types for Millenials\n",
    "data_mil = data[(data['birthyear'] >= 1977) & (data['birthyear'] <=1994)]\n",
    "groupby_mil = data_mil.groupby('usertype').size()\n",
    "groupby_mil.plot.bar(title='Distribution of user types')"
   ]
  },
  {
   "cell_type": "code",
   "execution_count": 91,
   "metadata": {
    "collapsed": true
   },
   "outputs": [],
   "source": [
    "#most millennials are members rather than short-term pass holders."
   ]
  },
  {
   "cell_type": "code",
   "execution_count": 92,
   "metadata": {
    "collapsed": true
   },
   "outputs": [],
   "source": [
    "#more insights can pop up when more than one feature is used as part of the analysis.\n",
    "#Multivariate Analysis"
   ]
  },
  {
   "cell_type": "code",
   "execution_count": 93,
   "metadata": {
    "collapsed": false
   },
   "outputs": [
    {
     "data": {
      "text/html": [
       "<div>\n",
       "<table border=\"1\" class=\"dataframe\">\n",
       "  <thead>\n",
       "    <tr style=\"text-align: right;\">\n",
       "      <th>gender</th>\n",
       "      <th>Female</th>\n",
       "      <th>Male</th>\n",
       "      <th>Other</th>\n",
       "    </tr>\n",
       "    <tr>\n",
       "      <th>birthyear</th>\n",
       "      <th></th>\n",
       "      <th></th>\n",
       "      <th></th>\n",
       "    </tr>\n",
       "  </thead>\n",
       "  <tbody>\n",
       "    <tr>\n",
       "      <th>1931.0</th>\n",
       "      <td>1.0</td>\n",
       "      <td>0.0</td>\n",
       "      <td>0.0</td>\n",
       "    </tr>\n",
       "    <tr>\n",
       "      <th>1936.0</th>\n",
       "      <td>0.0</td>\n",
       "      <td>7.0</td>\n",
       "      <td>0.0</td>\n",
       "    </tr>\n",
       "    <tr>\n",
       "      <th>1939.0</th>\n",
       "      <td>0.0</td>\n",
       "      <td>47.0</td>\n",
       "      <td>0.0</td>\n",
       "    </tr>\n",
       "    <tr>\n",
       "      <th>1942.0</th>\n",
       "      <td>0.0</td>\n",
       "      <td>2.0</td>\n",
       "      <td>0.0</td>\n",
       "    </tr>\n",
       "    <tr>\n",
       "      <th>1943.0</th>\n",
       "      <td>0.0</td>\n",
       "      <td>11.0</td>\n",
       "      <td>0.0</td>\n",
       "    </tr>\n",
       "  </tbody>\n",
       "</table>\n",
       "</div>"
      ],
      "text/plain": [
       "gender     Female  Male  Other\n",
       "birthyear                     \n",
       "1931.0        1.0   0.0    0.0\n",
       "1936.0        0.0   7.0    0.0\n",
       "1939.0        0.0  47.0    0.0\n",
       "1942.0        0.0   2.0    0.0\n",
       "1943.0        0.0  11.0    0.0"
      ]
     },
     "execution_count": 93,
     "metadata": {},
     "output_type": "execute_result"
    }
   ],
   "source": [
    "#Plotting the Distribution of Birth Years by Gender Type\n",
    "groupby_birthyear_gender = data.groupby(['birthyear', 'gender'])['birthyear'].count().unstack('gender').fillna(0)\n",
    "groupby_birthyear_gender.head(5)"
   ]
  },
  {
   "cell_type": "code",
   "execution_count": 94,
   "metadata": {
    "collapsed": false
   },
   "outputs": [
    {
     "data": {
      "text/plain": [
       "<matplotlib.axes._subplots.AxesSubplot at 0x7f6c667dd358>"
      ]
     },
     "execution_count": 94,
     "metadata": {},
     "output_type": "execute_result"
    },
    {
     "data": {
      "image/png": "[encoded data removed]",
      "text/plain": [
       "<matplotlib.figure.Figure at 0x7f6c66870ac8>"
      ]
     },
     "metadata": {},
     "output_type": "display_data"
    }
   ],
   "source": [
    "groupby_birthyear_gender[['Male', 'Female', 'Other']].plot.bar(\n",
    "    title='Distribution of birth years Gender', stacked=True, figsize=(15,4))"
   ]
  },
  {
   "cell_type": "code",
   "execution_count": 95,
   "metadata": {
    "collapsed": true
   },
   "outputs": [],
   "source": [
    "#It's seen earlier, that majority of the trips were availed by males, hence this skewed the distribution in favor of males. \n",
    "#However, subscribers born in 1947 were all females.\n",
    "#Moreover, those born in 1964 and 1994 were dominated by females as well."
   ]
  },
  {
   "cell_type": "code",
   "execution_count": 96,
   "metadata": {
    "collapsed": false
   },
   "outputs": [
    {
     "data": {
      "text/html": [
       "<div>\n",
       "<table border=\"1\" class=\"dataframe\">\n",
       "  <thead>\n",
       "    <tr style=\"text-align: right;\">\n",
       "      <th>usertype</th>\n",
       "      <th>Member</th>\n",
       "    </tr>\n",
       "    <tr>\n",
       "      <th>birthyear</th>\n",
       "      <th></th>\n",
       "    </tr>\n",
       "  </thead>\n",
       "  <tbody>\n",
       "    <tr>\n",
       "      <th>1931.0</th>\n",
       "      <td>1.0</td>\n",
       "    </tr>\n",
       "    <tr>\n",
       "      <th>1936.0</th>\n",
       "      <td>7.0</td>\n",
       "    </tr>\n",
       "    <tr>\n",
       "      <th>1939.0</th>\n",
       "      <td>47.0</td>\n",
       "    </tr>\n",
       "    <tr>\n",
       "      <th>1942.0</th>\n",
       "      <td>2.0</td>\n",
       "    </tr>\n",
       "    <tr>\n",
       "      <th>1943.0</th>\n",
       "      <td>11.0</td>\n",
       "    </tr>\n",
       "  </tbody>\n",
       "</table>\n",
       "</div>"
      ],
      "text/plain": [
       "usertype   Member\n",
       "birthyear        \n",
       "1931.0        1.0\n",
       "1936.0        7.0\n",
       "1939.0       47.0\n",
       "1942.0        2.0\n",
       "1943.0       11.0"
      ]
     },
     "execution_count": 96,
     "metadata": {},
     "output_type": "execute_result"
    }
   ],
   "source": [
    "#Plotting the Distribution of Birth Years by User Types\n",
    "groupby_birthyear_user = data.groupby(['birthyear', 'usertype']\n",
    "                                     )['birthyear'].count().unstack('usertype').fillna(0)\n",
    "groupby_birthyear_user.head(5)"
   ]
  },
  {
   "cell_type": "code",
   "execution_count": 97,
   "metadata": {
    "collapsed": false
   },
   "outputs": [
    {
     "data": {
      "text/plain": [
       "<matplotlib.axes._subplots.AxesSubplot at 0x7f6c66514d68>"
      ]
     },
     "execution_count": 97,
     "metadata": {},
     "output_type": "execute_result"
    },
    {
     "data": {
      "image/png": "[encoded data removed]",
      "text/plain": [
       "<matplotlib.figure.Figure at 0x7f6c668702e8>"
      ]
     },
     "metadata": {},
     "output_type": "display_data"
    }
   ],
   "source": [
    "groupby_birthyear_user['Member'].plot.bar(title = 'Distribution of birth years by Usertype', stacked=True, figsize = (15,4))"
   ]
  },
  {
   "cell_type": "code",
   "execution_count": 98,
   "metadata": {
    "collapsed": true
   },
   "outputs": [],
   "source": [
    "#It's seems that the distribution was only one user type and not two(membership and short-term pass holders)\n",
    "# Does this mean that birth year information was only present for only one user type?"
   ]
  },
  {
   "cell_type": "code",
   "execution_count": 99,
   "metadata": {
    "collapsed": false
   },
   "outputs": [
    {
     "data": {
      "text/plain": [
       "True"
      ]
     },
     "execution_count": 99,
     "metadata": {},
     "output_type": "execute_result"
    }
   ],
   "source": [
    "#Validation If We Don’t Have Birth Year Available for Short-Term Pass Holders\n",
    "data[data['usertype']=='Short-Term Pass Holder']['birthyear'].isnull().values.all()"
   ]
  },
  {
   "cell_type": "code",
   "execution_count": 100,
   "metadata": {
    "collapsed": false
   },
   "outputs": [],
   "source": [
    "#This confirm that birth year data is only available for members."
   ]
  },
  {
   "cell_type": "code",
   "execution_count": 101,
   "metadata": {
    "collapsed": false
   },
   "outputs": [
    {
     "data": {
      "text/plain": [
       "True"
      ]
     },
     "execution_count": 101,
     "metadata": {},
     "output_type": "execute_result"
    }
   ],
   "source": [
    "#Validation If We Don’t Have Gender Available for Short-Term Pass Holders\n",
    "data[data['usertype']=='Short-Term Pass Holder']['gender'].isnull().values.all()"
   ]
  },
  {
   "cell_type": "code",
   "execution_count": 102,
   "metadata": {
    "collapsed": true
   },
   "outputs": [],
   "source": [
    "# with this 2 above we can concluded that we don’t have the demographic variables for user type ‘Short-Term Pass holders’."
   ]
  },
  {
   "cell_type": "code",
   "execution_count": 103,
   "metadata": {
    "collapsed": false
   },
   "outputs": [],
   "source": [
    "#Converting String to datetime, and Deriving New Features\n",
    "import time\n",
    "List_ = list(data['starttime'])"
   ]
  },
  {
   "cell_type": "code",
   "execution_count": 104,
   "metadata": {
    "collapsed": false
   },
   "outputs": [],
   "source": [
    "List_ = [datetime.datetime.strptime(x, \"%m/%d/%Y %H:%M:%S %p\") for x in List_]"
   ]
  },
  {
   "cell_type": "code",
   "execution_count": 105,
   "metadata": {
    "collapsed": false
   },
   "outputs": [],
   "source": [
    "data['starttime_mod'] = pd.Series(List_,index=data.index)\n",
    "data['starttime_date'] = pd.Series([x.date() for x in List_],index=data.index)\n",
    "data['starttime_year'] = pd.Series([x.year for x in List_],index=data.index)\n",
    "data['starttime_month'] = pd.Series([x.month for x in List_],index=data.index)\n",
    "data['starttime_day'] = pd.Series([x.day for x in List_],index=data.index)\n",
    "data['starttime_hour'] = pd.Series([x.hour for x in List_],index=data.index)"
   ]
  },
  {
   "cell_type": "code",
   "execution_count": 106,
   "metadata": {
    "collapsed": false
   },
   "outputs": [
    {
     "data": {
      "text/plain": [
       "<matplotlib.axes._subplots.AxesSubplot at 0x7f6c7f32d588>"
      ]
     },
     "execution_count": 106,
     "metadata": {},
     "output_type": "execute_result"
    },
    {
     "data": {
      "image/png": "[encoded data removed]",
      "text/plain": [
       "<matplotlib.figure.Figure at 0x7f6c7b8e9668>"
      ]
     },
     "metadata": {},
     "output_type": "display_data"
    }
   ],
   "source": [
    "#Plotting the Distribution of Trip Duration over Daily Time\n",
    "data.groupby('starttime_date')['tripduration'].mean().plot.bar(\n",
    "    title ='Distribution of Trip duration by date', figsize = (15,4))"
   ]
  },
  {
   "cell_type": "code",
   "execution_count": 107,
   "metadata": {
    "collapsed": true
   },
   "outputs": [],
   "source": [
    "#Determining the Measures of Center"
   ]
  },
  {
   "cell_type": "code",
   "execution_count": 108,
   "metadata": {
    "collapsed": false
   },
   "outputs": [
    {
     "name": "stdout",
     "output_type": "stream",
     "text": [
      "Mean of trip duration: 1175.936106\n",
      "Median  of trip duration : 621.511000\n",
      "Mode of station originating from: Pier 69 / Alaskan Way & Clay St\n"
     ]
    }
   ],
   "source": [
    "trip_duration = list(data['tripduration'])\n",
    "station_from = list(data['from_station_name'])\n",
    "print('Mean of trip duration: %f' %statistics.mean(trip_duration))\n",
    "print('Median  of trip duration : %f' %statistics.median(trip_duration))\n",
    "print('Mode of station originating from: %s' %statistics.mode(station_from))"
   ]
  },
  {
   "cell_type": "code",
   "execution_count": 109,
   "metadata": {
    "collapsed": false
   },
   "outputs": [
    {
     "data": {
      "text/plain": [
       "1175.936106150336"
      ]
     },
     "execution_count": 109,
     "metadata": {},
     "output_type": "execute_result"
    }
   ],
   "source": [
    "data['tripduration'].mean()"
   ]
  },
  {
   "cell_type": "code",
   "execution_count": 110,
   "metadata": {
    "collapsed": false
   },
   "outputs": [
    {
     "data": {
      "text/plain": [
       "621.511"
      ]
     },
     "execution_count": 110,
     "metadata": {},
     "output_type": "execute_result"
    }
   ],
   "source": [
    "data['tripduration'].median()"
   ]
  },
  {
   "cell_type": "code",
   "execution_count": 111,
   "metadata": {
    "collapsed": false
   },
   "outputs": [
    {
     "data": {
      "text/plain": [
       "0    Pier 69 / Alaskan Way & Clay St\n",
       "dtype: object"
      ]
     },
     "execution_count": 111,
     "metadata": {},
     "output_type": "execute_result"
    }
   ],
   "source": [
    "data['from_station_name'].mode()"
   ]
  },
  {
   "cell_type": "code",
   "execution_count": 112,
   "metadata": {
    "collapsed": true
   },
   "outputs": [],
   "source": [
    "#This revealed that most trips originated from Pier 69/Alaskan Way & Clay St station. \n",
    "#Hence this was the ideal location for running promotional campaigns targeted to existing customers. \n",
    "#Moreover, the output showed the mean to be greater than the median."
   ]
  },
  {
   "cell_type": "code",
   "execution_count": 113,
   "metadata": {
    "collapsed": false
   },
   "outputs": [
    {
     "data": {
      "text/plain": [
       "<matplotlib.axes._subplots.AxesSubplot at 0x7f6c6584a518>"
      ]
     },
     "execution_count": 113,
     "metadata": {},
     "output_type": "execute_result"
    },
    {
     "data": {
      "image/png": "[encoded data removed]",
      "text/plain": [
       "<matplotlib.figure.Figure at 0x7f6c66234438>"
      ]
     },
     "metadata": {},
     "output_type": "display_data"
    }
   ],
   "source": [
    "#Plotting Histogram of Trip Duration\n",
    "data['tripduration'].plot.hist(bins=100, title='Frequency distribution of Trip duration')"
   ]
  },
  {
   "cell_type": "code",
   "execution_count": 114,
   "metadata": {
    "collapsed": true
   },
   "outputs": [],
   "source": [
    "#The distribution has only one peak (mode). The distribution is not symmetric and has majority of values toward the right-hand side of the mode. \n",
    "#These extreme values toward the right are negligible in quantity, but their extreme nature tends\n",
    "#to pull the mean toward themselves. Thus the reason why the mean is greater than the median."
   ]
  },
  {
   "cell_type": "code",
   "execution_count": 115,
   "metadata": {
    "collapsed": false
   },
   "outputs": [
    {
     "data": {
      "image/png": "[encoded data removed]",
      "text/plain": [
       "<matplotlib.figure.Figure at 0x7f6c6401bf28>"
      ]
     },
     "metadata": {},
     "output_type": "display_data"
    }
   ],
   "source": [
    "#Plotting a Box plot of Trip Duration\n",
    "box = data.boxplot(column=['tripduration'])\n",
    "plt.show()"
   ]
  },
  {
   "cell_type": "code",
   "execution_count": 116,
   "metadata": {
    "collapsed": false
   },
   "outputs": [
    {
     "name": "stdout",
     "output_type": "stream",
     "text": [
      "Proportion of values as outlier: 9.516124 percent\n"
     ]
    }
   ],
   "source": [
    "#Determining Ratio of Values in Observations of tripduration Which Are Outliers\n",
    "q75, q25 = np.percentile(trip_duration, [75, 25])\n",
    "iqr = q75 - q25\n",
    "print('Proportion of values as outlier: %f percent' %(\n",
    "    (len(data) - len([x for x in trip_duration if q75+(1.5*iqr)>=x>=q25-(1.5*iqr)]))\n",
    "                    *100/float(len(data))))"
   ]
  },
  {
   "cell_type": "code",
   "execution_count": 117,
   "metadata": {
    "collapsed": false
   },
   "outputs": [
    {
     "name": "stdout",
     "output_type": "stream",
     "text": [
      "Mean of trip duration: 699.538512\n"
     ]
    }
   ],
   "source": [
    "#Calculating z scores for Observations Lying Within tripduration\n",
    "mean_trip_duration = np.mean([x for x in trip_duration if q75+(1.5*iqr) >=x>= q25-(1.5*iqr)])\n",
    "upper_whisker = q75+(1.5*iqr)\n",
    "print('Mean of trip duration: %f' %mean_trip_duration)"
   ]
  },
  {
   "cell_type": "code",
   "execution_count": 118,
   "metadata": {
    "collapsed": true
   },
   "outputs": [],
   "source": [
    "#The mean of non-outlier trip duration values is considerably lower than that calculated in the presence of outliers"
   ]
  },
  {
   "cell_type": "code",
   "execution_count": 119,
   "metadata": {
    "collapsed": true
   },
   "outputs": [],
   "source": [
    "#We are now interesting to see the outcome statistics once the outliers were transformed into valid value sets.\n",
    "#we start with a simple outler transformation to the mean of valid value."
   ]
  },
  {
   "cell_type": "code",
   "execution_count": 120,
   "metadata": {
    "collapsed": true
   },
   "outputs": [],
   "source": [
    "#Calculating Mean Scores for Observations Lying Within tripduration\n",
    "def transform_tripduration(x):\n",
    "    if x > upper_whisker:\n",
    "        return mean_trip_duration\n",
    "    return x"
   ]
  },
  {
   "cell_type": "code",
   "execution_count": 121,
   "metadata": {
    "collapsed": true
   },
   "outputs": [],
   "source": [
    "data['tripduration_mean'] = data['tripduration'].apply(lambda x: transform_tripduration(x))"
   ]
  },
  {
   "cell_type": "code",
   "execution_count": 122,
   "metadata": {
    "collapsed": false
   },
   "outputs": [
    {
     "data": {
      "text/plain": [
       "<matplotlib.axes._subplots.AxesSubplot at 0x7f6c63fd1860>"
      ]
     },
     "execution_count": 122,
     "metadata": {},
     "output_type": "execute_result"
    },
    {
     "data": {
      "image/png": "[encoded data removed]",
      "text/plain": [
       "<matplotlib.figure.Figure at 0x7f6c7efc2550>"
      ]
     },
     "metadata": {},
     "output_type": "display_data"
    }
   ],
   "source": [
    "data['tripduration_mean'].plot.hist(bins=100, title='Frequency distribution of mean transormed Trip duration')"
   ]
  },
  {
   "cell_type": "code",
   "execution_count": 123,
   "metadata": {
    "collapsed": false
   },
   "outputs": [
    {
     "name": "stdout",
     "output_type": "stream",
     "text": [
      "Mean of trip duration: 699.538512\n",
      "Standard deviation of trip duration: 428.845220\n",
      "Median of trip duration: 621.511000\n"
     ]
    }
   ],
   "source": [
    "#Deternining the Measures of Center in Absence of Outliers\n",
    "print('Mean of trip duration: %f' %data['tripduration_mean'].mean())\n",
    "print('Standard deviation of trip duration: %f' %data['tripduration_mean'].std())\n",
    "print('Median of trip duration: %f' %data['tripduration_mean'].median())"
   ]
  },
  {
   "cell_type": "code",
   "execution_count": 124,
   "metadata": {
    "collapsed": true
   },
   "outputs": [],
   "source": [
    "#CONTINUE with\n",
    "#1. Find the mean, median, and mode of the trip duration of gender type male.\n",
    "#2. By looking at the numbers obtained earlier, in your opinion is the distribution symmetric or skewed? If skewed, then is is it\n",
    "# positively skewed or negatively skewed?\n",
    "#3. Plot a frequency distribution of trip duration for trips availed by gender type male. Does it validate your inference as you did so\n",
    "#in the previous question?\n",
    "#4. Plot a box plot of the trip duration of trips taken by males. Do you think any outliers exist?\n",
    "#5. Apply the formula in Listing 1-6 to determine the percentage of observations for which outliers exists.\n",
    "#6. Perform the treatment of outliers by incorporating one of the methods we discussed earlier for the treatment of outliers."
   ]
  },
  {
   "cell_type": "code",
   "execution_count": 125,
   "metadata": {
    "collapsed": true
   },
   "outputs": [],
   "source": [
    "#CORRELATION"
   ]
  },
  {
   "cell_type": "code",
   "execution_count": 129,
   "metadata": {
    "collapsed": false
   },
   "outputs": [
    {
     "name": "stderr",
     "output_type": "stream",
     "text": [
      "/home/winner/anaconda3/lib/python3.6/site-packages/ipykernel/__main__.py:3: SettingWithCopyWarning: \n",
      "A value is trying to be set on a copy of a slice from a DataFrame.\n",
      "Try using .loc[row_indexer,col_indexer] = value instead\n",
      "\n",
      "See the caveats in the documentation: http://pandas.pydata.org/pandas-docs/stable/indexing.html#indexing-view-versus-copy\n",
      "  app.launch_new_instance()\n"
     ]
    }
   ],
   "source": [
    "#Pairplot of trip duration and age\n",
    "data = data.dropna()\n",
    "data['age'] = data['starttime_year'] - data['birthyear']"
   ]
  },
  {
   "cell_type": "code",
   "execution_count": 130,
   "metadata": {
    "collapsed": false
   },
   "outputs": [
    {
     "data": {
      "text/plain": [
       "<seaborn.axisgrid.PairGrid at 0x7f6c79c100f0>"
      ]
     },
     "execution_count": 130,
     "metadata": {},
     "output_type": "execute_result"
    },
    {
     "data": {
      "image/png": "[encoded data removed]",
      "text/plain": [
       "<matplotlib.figure.Figure at 0x7f6c79c10860>"
      ]
     },
     "metadata": {},
     "output_type": "display_data"
    }
   ],
   "source": [
    "seaborn.pairplot(data, vars=['age', 'tripduration'], kind='reg')"
   ]
  },
  {
   "cell_type": "code",
   "execution_count": 127,
   "metadata": {
    "collapsed": true
   },
   "outputs": [],
   "source": [
    "#Correlation Coefficient Between trip duration and age\n",
    "pd.set_option('display.width', 100)\n",
    "pd.set_option('precision', 3)"
   ]
  },
  {
   "cell_type": "code",
   "execution_count": 152,
   "metadata": {
    "collapsed": false
   },
   "outputs": [
    {
     "name": "stdout",
     "output_type": "stream",
     "text": [
      "              tripduration    age\n",
      "tripduration         1.000  0.056\n",
      "age                  0.056  1.000\n"
     ]
    }
   ],
   "source": [
    "correlations = data[['tripduration', 'age']].corr(method='pearson')\n",
    "print(correlations)"
   ]
  },
  {
   "cell_type": "code",
   "execution_count": 153,
   "metadata": {
    "collapsed": true
   },
   "outputs": [],
   "source": [
    "#The correlation coefficient is positive correlation, but being much less than 1. He is weak in nature"
   ]
  },
  {
   "cell_type": "code",
   "execution_count": 154,
   "metadata": {
    "collapsed": true
   },
   "outputs": [],
   "source": [
    "#Let’s calculate the two-tail t-test for all categories of genders and user types.\n",
    "#We do this so we can understand if different categories have resemblance in variances.\n",
    "#If they do, then they will be considered a group; otherwise they will be treated separately in the analysis mode."
   ]
  },
  {
   "cell_type": "code",
   "execution_count": 159,
   "metadata": {
    "collapsed": false
   },
   "outputs": [
    {
     "name": "stdout",
     "output_type": "stream",
     "text": [
      "Category: gender\n",
      "\n",
      "Female Male\n",
      "Statistic: -40.980365, P value: 0.000000\n",
      "\n",
      "\n",
      "Female Other\n",
      "Statistic: 46.796228, P value: 0.000000\n",
      "\n",
      "\n",
      "Male Other\n",
      "Statistic: 55.792689, P value: 0.000000\n",
      "\n",
      "\n",
      "Category: usertype\n",
      "\n"
     ]
    }
   ],
   "source": [
    "#Computing Two-Tail t-test of Categories of gender and user types\n",
    "for cat in ['gender','usertype']:\n",
    "    print('Category: %s\\n' %cat)\n",
    "    groupby_category = data.groupby(['starttime_date', cat])['starttime_date'].count().unstack(cat)\n",
    "    groupby_category = groupby_category.dropna()\n",
    "    category_names = list(groupby_category.columns)\n",
    "    \n",
    "    for comb in [(category_names[i],category_names[j]) for i in range(len(category_names)) for j in range(i+1, len(category_names))]:\n",
    "        print('%s %s'%(comb[0], comb[1]))\n",
    "        t_statistics = stats.ttest_ind(list(groupby_category[comb[0]]),\n",
    "                                       list(groupby_category[comb[1]]))\n",
    "        print('Statistic: %f, P value: %f'%(t_statistics.statistic,t_statistics.pvalue))\n",
    "        print('\\n')"
   ]
  },
  {
   "cell_type": "code",
   "execution_count": 160,
   "metadata": {
    "collapsed": false
   },
   "outputs": [],
   "source": [
    "#The results seem to be homogeneous across all categories. What do I\n",
    "#mean by that? Well for all of the comparisons, the p-values in the output\n",
    "#seem to be roughly 0. If we go with a confidence interval of 95%, then it\n",
    "#translates to a p-value of 0.05. None of the statistics above exceeds our set\n",
    "#p-value benchmark. This leads us to the conclusion that we need to treat\n",
    "#all of these categories separately when moving in the modeling aspect, as\n",
    "#all of them have different variances."
   ]
  },
  {
   "cell_type": "code",
   "execution_count": 162,
   "metadata": {
    "collapsed": false
   },
   "outputs": [
    {
     "data": {
      "image/png": "[encoded data removed]",
      "text/plain": [
       "<matplotlib.figure.Figure at 0x7f6c7995fac8>"
      ]
     },
     "metadata": {},
     "output_type": "display_data"
    }
   ],
   "source": [
    "#Script to Validate Central Limit Theorem on Trips Dataset\n",
    "daily_tickets = list(data.groupby('starttime_date').size())\n",
    "sample_tickets = []\n",
    "checkpoints = [1, 10, 100, 300, 500, 1000]\n",
    "plot_count = 1\n",
    "random.shuffle(daily_tickets)\n",
    "plt.figure(figsize=(15,7))\n",
    "binrange=np.array(np.linspace(0,700,101))\n",
    "for i in range(1000):\n",
    "    if daily_tickets:\n",
    "        sample_tickets.append(daily_tickets.pop())\n",
    "    if i+1 in checkpoints or not daily_tickets:\n",
    "        plt.subplot(2,3,plot_count)\n",
    "        plt.hist(sample_tickets, binrange)\n",
    "        plt.title('n=%d' % (i+1),fontsize=15)        \n",
    "        plot_count+=1\n",
    "    if not daily_tickets:\n",
    "       break\n",
    "plt.show()"
   ]
  },
  {
   "cell_type": "code",
   "execution_count": 163,
   "metadata": {
    "collapsed": true
   },
   "outputs": [],
   "source": [
    "#STUDY FINDING"
   ]
  },
  {
   "cell_type": "code",
   "execution_count": 164,
   "metadata": {
    "collapsed": true
   },
   "outputs": [],
   "source": [
    "#The insights were rendered on data collected from 2014 to 2017 with demographic information only available for the members and not short-term pass holders.\n",
    "#Trip duration follows a definite seasonal pattern that repeats over time.\n",
    "#Forecasting this time series can help to predict the times when the company needs to push its marketing efforts and times when most trips anticipated can help ensure operational efficiencies.\n",
    "#the best station at which to kick off the campaign would be Pier 69/Alaskan Way & Clay St.\n",
    "#Outliers were a tiny portion of the dataset; however, their time series nature meant that those outliers couldn’t be removed and transformation was thus applied.\n",
    "#Regarding further analysis, we were now aware that as the features are not homogeneous, the\n",
    "#analysis would have to be done on the individual category level."
   ]
  },
  {
   "cell_type": "code",
   "execution_count": null,
   "metadata": {
    "collapsed": true
   },
   "outputs": [],
   "source": []
  }
 ],
 "metadata": {
  "kernelspec": {
   "display_name": "Python 3",
   "language": "python",
   "name": "python3"
  },
  "language_info": {
   "codemirror_mode": {
    "name": "ipython",
    "version": 3
   },
   "file_extension": ".py",
   "mimetype": "text/x-python",
   "name": "python",
   "nbconvert_exporter": "python",
   "pygments_lexer": "ipython3",
   "version": "3.6.0"
  }
 },
 "nbformat": 4,
 "nbformat_minor": 2
}
